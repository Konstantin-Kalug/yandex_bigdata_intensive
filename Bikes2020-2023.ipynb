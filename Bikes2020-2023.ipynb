{
 "cells": [
  {
   "cell_type": "code",
   "execution_count": null,
   "id": "d8118da5",
   "metadata": {},
   "outputs": [],
   "source": [
    "import pandas as pd\n",
    "import numpy as np\n",
    "import matplotlib.pyplot as plt"
   ]
  },
  {
   "cell_type": "code",
   "execution_count": null,
   "id": "43b0cf99",
   "metadata": {},
   "outputs": [],
   "source": [
    "#pd.read_table(f'data/src/{2013}/part-00000', index_col=False, header=None, names=['id', 'biketype', 'starttime', 'endtime', 'startstation', 'endstation', 'startlat', 'startlng', 'endlat', 'endlng', 'member_casual', 'gender', 'age', 'bikeid'], sep=',')\n",
    "#stations_start = df[['startstation', 'id']].rename(columns={'id': 'count'}).groupby(by=['startstation']).count()\n",
    "#stations_end = df[['endstation', 'id']].rename(columns={'id': 'count'}).groupby(by=['endstation']).count()\n",
    "#count = stations_start - stations_end\n",
    "#count = count.dropna()"
   ]
  },
  {
   "cell_type": "code",
   "execution_count": null,
   "id": "17a3c031",
   "metadata": {},
   "outputs": [],
   "source": []
  }
 ],
 "metadata": {
  "kernelspec": {
   "display_name": "Python 3 (ipykernel)",
   "language": "python",
   "name": "python3"
  },
  "language_info": {
   "codemirror_mode": {
    "name": "ipython",
    "version": 3
   },
   "file_extension": ".py",
   "mimetype": "text/x-python",
   "name": "python",
   "nbconvert_exporter": "python",
   "pygments_lexer": "ipython3",
   "version": "3.10.6"
  }
 },
 "nbformat": 4,
 "nbformat_minor": 5
}
