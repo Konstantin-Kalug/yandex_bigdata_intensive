{
  "nbformat": 4,
  "nbformat_minor": 0,
  "metadata": {
    "colab": {
      "provenance": []
    },
    "kernelspec": {
      "name": "python3",
      "display_name": "Python 3"
    },
    "language_info": {
      "name": "python"
    }
  },
  "cells": [
    {
      "cell_type": "markdown",
      "source": [
        "# Прогнозы"
      ],
      "metadata": {
        "id": "J0v9w6jLyGJ2"
      }
    },
    {
      "cell_type": "code",
      "source": [
        "from google.colab import drive\n",
        "drive.mount('/content/drive')"
      ],
      "metadata": {
        "colab": {
          "base_uri": "https://localhost:8080/"
        },
        "id": "o3m0qSTee65v",
        "outputId": "9056f8e5-2fdb-4514-f88b-8f25d9630efb"
      },
      "execution_count": 2,
      "outputs": [
        {
          "output_type": "stream",
          "name": "stdout",
          "text": [
            "Drive already mounted at /content/drive; to attempt to forcibly remount, call drive.mount(\"/content/drive\", force_remount=True).\n"
          ]
        }
      ]
    },
    {
      "cell_type": "markdown",
      "source": [
        "### 1. Прогноз кол-ва подписчиков и обычных юзеров на ближайшие 5 лет"
      ],
      "metadata": {
        "id": "foHlO5gn5tWW"
      }
    },
    {
      "cell_type": "code",
      "execution_count": null,
      "metadata": {
        "id": "fIzxOO9qdrxc"
      },
      "outputs": [],
      "source": [
        "!pip install numpy==1.24.2\n",
        "!pip install Cython==0.29.34\n",
        "!pip install pystan==2.19.1.1\n",
        "import pandas as pd\n",
        "from prophet import Prophet\n",
        "from datetime import datetime"
      ]
    },
    {
      "cell_type": "code",
      "source": [
        "st = 2013\n",
        "end = 2023\n",
        "google_collab = True"
      ],
      "metadata": {
        "id": "3NsFHI8M6mc0"
      },
      "execution_count": 8,
      "outputs": []
    },
    {
      "cell_type": "code",
      "source": [
        "members = []\n",
        "casuals = []\n",
        "for year in range(st, end):\n",
        "    root = f'data/src/{year}/part-00000'\n",
        "    if google_collab:\n",
        "        root = f'/content/drive/MyDrive/yandex_bigdata_intensive/data/src/{year}/part-00000'\n",
        "    df = pd.read_table(root, index_col=False, header=None, names=['id', 'biketype', 'starttime', 'endtime', 'startstation', 'endstation', 'startlat', 'startlng', 'endlat', 'endlng', 'member_casual', 'gender', 'age', 'bikeid'], sep=',')\n",
        "    casuals.append(len(df.loc[(df['member_casual'] == 'Customer') | (df['member_casual'] == 'casual')]))\n",
        "    members.append(len(df.loc[(df['member_casual'] == 'Subscriber') | (df['member_casual'] == 'member')]))\n",
        "    print(year)\n",
        "df_casuals = pd.DataFrame(data={'y': casuals, 'ds': [datetime(year=i, month=1, day=1) for i in\n",
        "                                                     range(st, end)]})\n",
        "df_members = pd.DataFrame(data={'y': members, 'ds': [datetime(year=i, month=1, day=1) for i in\n",
        "                                                     range(st, end)]})\n",
        "\n",
        "m_casuals = Prophet()\n",
        "m_casuals.fit(df_casuals)\n",
        "future_casuals = m_casuals.make_future_dataframe(periods=6, freq='Y')\n",
        "forecast_casuals = m_casuals.predict(future_casuals)\n",
        "print('=============================\\nCASUALS:')\n",
        "print(forecast_casuals[['ds', 'yhat', 'yhat_lower', 'yhat_upper']])\n",
        "\n",
        "m_members = Prophet()\n",
        "m_members.fit(df_members)\n",
        "future_members = m_members.make_future_dataframe(periods=6, freq='Y')\n",
        "forecast_members = m_members.predict(future_members)\n",
        "print('=============================\\nMEMBERS:')\n",
        "print(forecast_members[['ds', 'yhat', 'yhat_lower', 'yhat_upper']])\n",
        "\n"
      ],
      "metadata": {
        "colab": {
          "base_uri": "https://localhost:8080/"
        },
        "id": "DIhDmc1tyJ8t",
        "outputId": "6ce96ffc-82f0-42cb-b185-e303321ba357"
      },
      "execution_count": 7,
      "outputs": [
        {
          "output_type": "stream",
          "name": "stdout",
          "text": [
            "2013\n",
            "2014\n",
            "2015\n",
            "2016\n",
            "2017\n",
            "2018\n",
            "2019\n",
            "2020\n",
            "2021\n"
          ]
        },
        {
          "output_type": "stream",
          "name": "stderr",
          "text": [
            "INFO:prophet:Disabling weekly seasonality. Run prophet with weekly_seasonality=True to override this.\n",
            "INFO:prophet:Disabling daily seasonality. Run prophet with daily_seasonality=True to override this.\n",
            "INFO:prophet:n_changepoints greater than number of observations. Using 7.\n",
            "DEBUG:cmdstanpy:input tempfile: /tmp/tmp9e5eu8re/butiibvs.json\n",
            "DEBUG:cmdstanpy:input tempfile: /tmp/tmp9e5eu8re/fyaox3j1.json\n",
            "DEBUG:cmdstanpy:idx 0\n",
            "DEBUG:cmdstanpy:running CmdStan, num_threads: None\n",
            "DEBUG:cmdstanpy:CmdStan args: ['/usr/local/lib/python3.9/dist-packages/prophet/stan_model/prophet_model.bin', 'random', 'seed=35050', 'data', 'file=/tmp/tmp9e5eu8re/butiibvs.json', 'init=/tmp/tmp9e5eu8re/fyaox3j1.json', 'output', 'file=/tmp/tmp9e5eu8re/prophet_modelt1inor8v/prophet_model-20230418193925.csv', 'method=optimize', 'algorithm=newton', 'iter=10000']\n",
            "19:39:25 - cmdstanpy - INFO - Chain [1] start processing\n",
            "INFO:cmdstanpy:Chain [1] start processing\n"
          ]
        },
        {
          "output_type": "stream",
          "name": "stdout",
          "text": [
            "2022\n"
          ]
        },
        {
          "output_type": "stream",
          "name": "stderr",
          "text": [
            "19:39:25 - cmdstanpy - INFO - Chain [1] done processing\n",
            "INFO:cmdstanpy:Chain [1] done processing\n",
            "INFO:prophet:Disabling weekly seasonality. Run prophet with weekly_seasonality=True to override this.\n",
            "INFO:prophet:Disabling daily seasonality. Run prophet with daily_seasonality=True to override this.\n",
            "INFO:prophet:n_changepoints greater than number of observations. Using 7.\n",
            "DEBUG:cmdstanpy:input tempfile: /tmp/tmp9e5eu8re/erlsshls.json\n",
            "DEBUG:cmdstanpy:input tempfile: /tmp/tmp9e5eu8re/1z31z073.json\n",
            "DEBUG:cmdstanpy:idx 0\n",
            "DEBUG:cmdstanpy:running CmdStan, num_threads: None\n",
            "DEBUG:cmdstanpy:CmdStan args: ['/usr/local/lib/python3.9/dist-packages/prophet/stan_model/prophet_model.bin', 'random', 'seed=36466', 'data', 'file=/tmp/tmp9e5eu8re/erlsshls.json', 'init=/tmp/tmp9e5eu8re/1z31z073.json', 'output', 'file=/tmp/tmp9e5eu8re/prophet_modelzopb7jpi/prophet_model-20230418193925.csv', 'method=optimize', 'algorithm=newton', 'iter=10000']\n",
            "19:39:25 - cmdstanpy - INFO - Chain [1] start processing\n",
            "INFO:cmdstanpy:Chain [1] start processing\n"
          ]
        },
        {
          "output_type": "stream",
          "name": "stdout",
          "text": [
            "=============================\n",
            "CASUALS:\n",
            "           ds          yhat    yhat_lower    yhat_upper\n",
            "0  2013-01-01  4.171767e+05 -1.623128e+04  8.876222e+05\n",
            "1  2014-01-01  5.018700e+05  8.324653e+04  9.705225e+05\n",
            "2  2015-01-01  5.893452e+05  1.709030e+05  1.043373e+06\n",
            "3  2016-01-01  6.797373e+05  1.906271e+05  1.120101e+06\n",
            "4  2017-01-01  1.211997e+06  7.198613e+05  1.632885e+06\n",
            "5  2018-01-01  1.296690e+06  8.187094e+05  1.765185e+06\n",
            "6  2019-01-01  1.384165e+06  9.387945e+05  1.827588e+06\n",
            "7  2020-01-01  1.474557e+06  9.818267e+05  1.931083e+06\n",
            "8  2021-01-01  2.006817e+06  1.565203e+06  2.478741e+06\n",
            "9  2022-01-01  2.091510e+06  1.618827e+06  2.561160e+06\n",
            "10 2022-12-31  1.764508e+06  1.337066e+06  2.212510e+06\n",
            "11 2023-12-31  1.867812e+06  1.453092e+06  2.339277e+06\n",
            "12 2024-12-31  2.362816e+06  1.883211e+06  2.806582e+06\n",
            "13 2025-12-31  2.459427e+06  2.021874e+06  2.899219e+06\n",
            "14 2026-12-31  2.559328e+06  2.132056e+06  2.999880e+06\n",
            "15 2027-12-31  2.662632e+06  2.183605e+06  3.111498e+06\n"
          ]
        },
        {
          "output_type": "stream",
          "name": "stderr",
          "text": [
            "19:39:25 - cmdstanpy - INFO - Chain [1] done processing\n",
            "INFO:cmdstanpy:Chain [1] done processing\n"
          ]
        },
        {
          "output_type": "stream",
          "name": "stdout",
          "text": [
            "=============================\n",
            "MEMBERS:\n",
            "           ds          yhat    yhat_lower    yhat_upper\n",
            "0  2013-01-01  1.362370e+06  6.596021e+05  2.036571e+06\n",
            "1  2014-01-01  1.692143e+06  9.313121e+05  2.421260e+06\n",
            "2  2015-01-01  2.006530e+06  1.207451e+06  2.731984e+06\n",
            "3  2016-01-01  2.305422e+06  1.563204e+06  2.999204e+06\n",
            "4  2017-01-01  2.275194e+06  1.535869e+06  3.035101e+06\n",
            "5  2018-01-01  2.604968e+06  1.891731e+06  3.315471e+06\n",
            "6  2019-01-01  2.919354e+06  2.198163e+06  3.618222e+06\n",
            "7  2020-01-01  3.218246e+06  2.457379e+06  3.973234e+06\n",
            "8  2021-01-01  3.188018e+06  2.438550e+06  3.912702e+06\n",
            "9  2022-01-01  3.517792e+06  2.804802e+06  4.246318e+06\n",
            "10 2022-12-31  4.021298e+06  3.267642e+06  4.748675e+06\n",
            "11 2023-12-31  4.257686e+06  3.462344e+06  4.967085e+06\n",
            "12 2024-12-31  4.414389e+06  3.721942e+06  5.162332e+06\n",
            "13 2025-12-31  4.682082e+06  3.961420e+06  5.434296e+06\n",
            "14 2026-12-31  4.934122e+06  4.162942e+06  5.660924e+06\n",
            "15 2027-12-31  5.170510e+06  4.469844e+06  5.929137e+06\n"
          ]
        }
      ]
    },
    {
      "cell_type": "markdown",
      "source": [
        "И так: Видим, что все должно пойти в гору! Но так ли это?\n",
        "\n",
        "[Данные (внешние) о диви](https://chi.streetsblog.org/2022/09/30/whats-going-on-with-divvy-availability-lets-look-at-the-data/)\n",
        "\n",
        "[Плохие отзывы](https://www.tripadvisor.ru/Attraction_Review-g35805-d5074715-Reviews-Divvy_Bikes-Chicago_Illinois.html)\n",
        "\n",
        "[Исследования за 2021 год](https://www.kaggle.com/datasets/michaeljohnsonjr/divvytrips2021/code)\n",
        "\n",
        "**Не всегда ML может правильно предсказать события! На все влияет человечкий фактор.**"
      ],
      "metadata": {
        "id": "zjDuotAD3SFz"
      }
    },
    {
      "cell_type": "markdown",
      "source": [
        "### 2. Прогноз количества абсолютных прогулочных  поездок на ближайшие 5 лет"
      ],
      "metadata": {
        "id": "EUlJ_vZ951qh"
      }
    },
    {
      "cell_type": "code",
      "source": [
        "res = []\n",
        "percent_res = []\n",
        "points = []\n",
        "for year in range(st, end):\n",
        "    root = f'data/src/{year}/part-00000'\n",
        "    if google_collab:\n",
        "        root = f'/content/drive/MyDrive/yandex_bigdata_intensive/data/src/{year}/part-00000'\n",
        "    df = pd.read_table(root, index_col=False, header=None, names=['id', 'biketype', 'starttime', 'endtime', 'startstation', 'endstation', 'startlat', 'startlng', 'endlat', 'endlng', 'member_casual', 'gender', 'age', 'bikeid'], sep=',')\n",
        "    df = df[['startstation', 'endstation', 'startlat', 'startlng']].dropna()\n",
        "    full = len(df)\n",
        "    df = df[df['startstation'] == df['endstation']]\n",
        "    points.extend((df['startlng'].astype(str) + ',' + df['startlat'].astype(str)).tolist())\n",
        "    points = list(set(points))\n",
        "    res.append(len(df))\n",
        "    percent_res.append(len(df) / full)\n",
        "\n",
        "df_walktrips = pd.DataFrame(data={'y': res, 'ds': [datetime(year=i, month=1, day=1) for i in\n",
        "                                                     range(st, end)]})\n",
        "\n",
        "m_walktrips = Prophet()\n",
        "m_walktrips.fit(df_walktrips)\n",
        "future_walktrips = m_walktrips.make_future_dataframe(periods=6, freq='Y')\n",
        "forecast_walktrips = m_walktrips.predict(future_walktrips)\n",
        "print('=============================\\nABSOLUTE NUMBER OF WALK TRIPS:')\n",
        "print(forecast_walktrips[['ds', 'yhat', 'yhat_lower', 'yhat_upper']])"
      ],
      "metadata": {
        "colab": {
          "base_uri": "https://localhost:8080/"
        },
        "id": "jdrM4j115g-0",
        "outputId": "eb66908e-51c0-43b4-d356-02f733f0d65d"
      },
      "execution_count": 9,
      "outputs": [
        {
          "output_type": "stream",
          "name": "stderr",
          "text": [
            "INFO:prophet:Disabling weekly seasonality. Run prophet with weekly_seasonality=True to override this.\n",
            "INFO:prophet:Disabling daily seasonality. Run prophet with daily_seasonality=True to override this.\n",
            "INFO:prophet:n_changepoints greater than number of observations. Using 7.\n",
            "DEBUG:cmdstanpy:input tempfile: /tmp/tmp9e5eu8re/taukj4ze.json\n",
            "DEBUG:cmdstanpy:input tempfile: /tmp/tmp9e5eu8re/ke7t1d3c.json\n",
            "DEBUG:cmdstanpy:idx 0\n",
            "DEBUG:cmdstanpy:running CmdStan, num_threads: None\n",
            "DEBUG:cmdstanpy:CmdStan args: ['/usr/local/lib/python3.9/dist-packages/prophet/stan_model/prophet_model.bin', 'random', 'seed=89971', 'data', 'file=/tmp/tmp9e5eu8re/taukj4ze.json', 'init=/tmp/tmp9e5eu8re/ke7t1d3c.json', 'output', 'file=/tmp/tmp9e5eu8re/prophet_model_pgqektb/prophet_model-20230418195518.csv', 'method=optimize', 'algorithm=newton', 'iter=10000']\n",
            "19:55:18 - cmdstanpy - INFO - Chain [1] start processing\n",
            "INFO:cmdstanpy:Chain [1] start processing\n",
            "19:55:18 - cmdstanpy - INFO - Chain [1] done processing\n",
            "INFO:cmdstanpy:Chain [1] done processing\n"
          ]
        },
        {
          "output_type": "stream",
          "name": "stdout",
          "text": [
            "=============================\n",
            "ABSOLUTENUMBER OF WALK TRIPS:\n",
            "           ds           yhat     yhat_lower     yhat_upper\n",
            "0  2013-01-01   14196.535090  -43695.516703   78215.547273\n",
            "1  2014-01-01   54484.059755   -4282.106778  115819.766998\n",
            "2  2015-01-01   97327.865852   36968.215862  160027.938038\n",
            "3  2016-01-01  142716.068916   84779.163808  205099.417588\n",
            "4  2017-01-01  146546.246973   87380.949861  208953.355047\n",
            "5  2018-01-01  186833.771687  127331.567700  248616.289586\n",
            "6  2019-01-01  229677.577803  169678.053127  287878.070541\n",
            "7  2020-01-01  275065.780856  215600.284264  333929.208843\n",
            "8  2021-01-01  278895.958891  218281.600648  339817.044432\n",
            "9  2022-01-01  319183.483591  260296.135924  384022.320315\n",
            "10 2022-12-31  426311.249750  367704.328361  487967.760636\n",
            "11 2023-12-31  481669.500267  417531.147812  540372.532902\n",
            "12 2024-12-31  455331.752799  400403.555093  515874.219964\n",
            "13 2025-12-31  505755.298951  448614.267305  563415.189346\n",
            "14 2026-12-31  558660.961670  497872.641295  622456.149757\n",
            "15 2027-12-31  614019.212187  551453.021277  668460.538374\n"
          ]
        }
      ]
    },
    {
      "cell_type": "markdown",
      "source": [
        "Опять заметим, что все параметры увеличваются. Но в действительности это не так."
      ],
      "metadata": {
        "id": "eeu69OjJ6Tdy"
      }
    },
    {
      "cell_type": "markdown",
      "source": [
        "### 3. Прогноз прогулочных поездок в долях"
      ],
      "metadata": {
        "id": "m-0Ptdrw8IDi"
      }
    },
    {
      "cell_type": "code",
      "source": [
        "df_walktrips2 = pd.DataFrame(data={'y': percent_res, 'ds': [datetime(year=i, month=1, day=1) for i in\n",
        "                                                     range(st, end)]})\n",
        "\n",
        "m_walktrips2 = Prophet()\n",
        "m_walktrips2.fit(df_walktrips2)\n",
        "future_walktrips2 = m_walktrips2.make_future_dataframe(periods=6, freq='Y')\n",
        "forecast_walktrips2 = m_walktrips2.predict(future_walktrips2)\n",
        "print('=============================\\nDOLI OF NUMBER OF WALK TRIPS:')\n",
        "print(forecast_walktrips2[['ds', 'yhat', 'yhat_lower', 'yhat_upper']])"
      ],
      "metadata": {
        "colab": {
          "base_uri": "https://localhost:8080/"
        },
        "id": "DfKOknfsAg7l",
        "outputId": "d040bb28-a664-422a-8c82-9886074ac258"
      },
      "execution_count": 11,
      "outputs": [
        {
          "output_type": "stream",
          "name": "stderr",
          "text": [
            "INFO:prophet:Disabling weekly seasonality. Run prophet with weekly_seasonality=True to override this.\n",
            "INFO:prophet:Disabling daily seasonality. Run prophet with daily_seasonality=True to override this.\n",
            "INFO:prophet:n_changepoints greater than number of observations. Using 7.\n",
            "DEBUG:cmdstanpy:input tempfile: /tmp/tmp9e5eu8re/j5up4ng2.json\n",
            "DEBUG:cmdstanpy:input tempfile: /tmp/tmp9e5eu8re/dlatnqgw.json\n",
            "DEBUG:cmdstanpy:idx 0\n",
            "DEBUG:cmdstanpy:running CmdStan, num_threads: None\n",
            "DEBUG:cmdstanpy:CmdStan args: ['/usr/local/lib/python3.9/dist-packages/prophet/stan_model/prophet_model.bin', 'random', 'seed=90067', 'data', 'file=/tmp/tmp9e5eu8re/j5up4ng2.json', 'init=/tmp/tmp9e5eu8re/dlatnqgw.json', 'output', 'file=/tmp/tmp9e5eu8re/prophet_model7mi5cgyb/prophet_model-20230418201658.csv', 'method=optimize', 'algorithm=newton', 'iter=10000']\n",
            "20:16:58 - cmdstanpy - INFO - Chain [1] start processing\n",
            "INFO:cmdstanpy:Chain [1] start processing\n",
            "20:16:58 - cmdstanpy - INFO - Chain [1] done processing\n",
            "INFO:cmdstanpy:Chain [1] done processing\n"
          ]
        },
        {
          "output_type": "stream",
          "name": "stdout",
          "text": [
            "=============================\n",
            "DOLI OF NUMBER OF WALK TRIPS:\n",
            "           ds      yhat  yhat_lower  yhat_upper\n",
            "0  2013-01-01  0.030207    0.006967    0.052725\n",
            "1  2014-01-01  0.036300    0.012027    0.059458\n",
            "2  2015-01-01  0.042852    0.020376    0.066132\n",
            "3  2016-01-01  0.049859    0.026168    0.073049\n",
            "4  2017-01-01  0.047104    0.023170    0.071832\n",
            "5  2018-01-01  0.053198    0.030957    0.076687\n",
            "6  2019-01-01  0.059749    0.036126    0.083121\n",
            "7  2020-01-01  0.066756    0.044470    0.089042\n",
            "8  2021-01-01  0.064002    0.041666    0.087648\n",
            "9  2022-01-01  0.070095    0.045680    0.091950\n",
            "10 2022-12-31  0.090468    0.068404    0.114049\n",
            "11 2023-12-31  0.099253    0.075641    0.122882\n",
            "12 2024-12-31  0.091112    0.067592    0.113776\n",
            "13 2025-12-31  0.099018    0.076314    0.123023\n",
            "14 2026-12-31  0.107366    0.082856    0.130212\n",
            "15 2027-12-31  0.116150    0.093085    0.139051\n"
          ]
        }
      ]
    },
    {
      "cell_type": "markdown",
      "source": [
        "### 4. Прогноз динамики среднего возраста в ближайшие 10 лет"
      ],
      "metadata": {
        "id": "x0PV_LRBA3pq"
      }
    },
    {
      "cell_type": "code",
      "source": [
        "sredniy_age = []\n",
        "print(st)\n",
        "for i in range(st, 2024):\n",
        "    root = f'data/src/{i}/part-00000'\n",
        "    if google_collab:\n",
        "        root = f'/content/drive/MyDrive/yandex_bigdata_intensive/data/src/{i}/part-00000'\n",
        "    df = pd.read_table(root, index_col=False, header=None,\n",
        "                       names=['id', 'biketype', 'starttime', 'endtime', 'startstation',\n",
        "                              'endstation',\n",
        "                              'startlat', 'startlng', 'endlat', 'endlng', 'member_casual', 'gender',\n",
        "                              'age',\n",
        "                              'bikeid'], sep=',')\n",
        "    sredniy_age.append(df['age'].mean())\n",
        "\n",
        "df_meanage = pd.DataFrame(data={'y': sredniy_age, 'ds': [datetime(year=i, month=1, day=1) for i in\n",
        "                                                     range(st, 2024)]})\n",
        "\n",
        "m_meanage = Prophet()\n",
        "m_meanage.fit(df_meanage)\n",
        "future_meanage = m_meanage.make_future_dataframe(periods=11, freq='Y')\n",
        "forecast_meanage = m_meanage.predict(future_meanage)\n",
        "print('=============================\\nMEAN AGE:')\n",
        "print(forecast_meanage[['ds', 'yhat', 'yhat_lower', 'yhat_upper']])"
      ],
      "metadata": {
        "colab": {
          "base_uri": "https://localhost:8080/"
        },
        "id": "qKKXpvPmBC_R",
        "outputId": "7c066c80-75b8-49e9-c481-4270712d0cf7"
      },
      "execution_count": 21,
      "outputs": [
        {
          "output_type": "stream",
          "name": "stdout",
          "text": [
            "2013\n"
          ]
        },
        {
          "output_type": "stream",
          "name": "stderr",
          "text": [
            "INFO:prophet:Disabling weekly seasonality. Run prophet with weekly_seasonality=True to override this.\n",
            "INFO:prophet:Disabling daily seasonality. Run prophet with daily_seasonality=True to override this.\n",
            "INFO:prophet:n_changepoints greater than number of observations. Using 4.\n",
            "DEBUG:cmdstanpy:input tempfile: /tmp/tmp9e5eu8re/lxd6ftgv.json\n",
            "DEBUG:cmdstanpy:input tempfile: /tmp/tmp9e5eu8re/ffun772y.json\n",
            "DEBUG:cmdstanpy:idx 0\n",
            "DEBUG:cmdstanpy:running CmdStan, num_threads: None\n",
            "DEBUG:cmdstanpy:CmdStan args: ['/usr/local/lib/python3.9/dist-packages/prophet/stan_model/prophet_model.bin', 'random', 'seed=28439', 'data', 'file=/tmp/tmp9e5eu8re/lxd6ftgv.json', 'init=/tmp/tmp9e5eu8re/ffun772y.json', 'output', 'file=/tmp/tmp9e5eu8re/prophet_model5zctb9wv/prophet_model-20230418205547.csv', 'method=optimize', 'algorithm=newton', 'iter=10000']\n",
            "20:55:47 - cmdstanpy - INFO - Chain [1] start processing\n",
            "INFO:cmdstanpy:Chain [1] start processing\n",
            "20:55:54 - cmdstanpy - INFO - Chain [1] done processing\n",
            "INFO:cmdstanpy:Chain [1] done processing\n"
          ]
        },
        {
          "output_type": "stream",
          "name": "stdout",
          "text": [
            "=============================\n",
            "MEAN AGE:\n",
            "           ds       yhat  yhat_lower  yhat_upper\n",
            "0  2013-01-01  36.145709   36.145709   36.145709\n",
            "1  2014-01-01  35.405999   35.405999   35.405999\n",
            "2  2015-01-01  35.266113   35.266113   35.266113\n",
            "3  2016-01-01  35.523239   35.523239   35.523239\n",
            "4  2017-01-01  35.414326   35.414326   35.414326\n",
            "5  2018-01-01  35.309058   35.309058   35.309058\n",
            "6  2019-01-01  34.969107   34.969107   34.969107\n",
            "7  2020-01-01  34.399545   33.998093   34.703173\n",
            "8  2021-01-01  33.616759   32.365529   34.629713\n",
            "9  2022-01-01  33.511491   30.998112   35.509344\n",
            "10 2023-01-01  33.171540   29.351025   36.485898\n",
            "11 2023-12-31  29.939326   24.623447   34.685868\n",
            "12 2024-12-31  31.808249   24.858491   38.266413\n",
            "13 2025-12-31  30.796152   22.043624   38.616043\n",
            "14 2026-12-31  29.571832   18.665804   39.172999\n",
            "15 2027-12-31  28.141759   15.342759   39.980911\n",
            "16 2028-12-31  30.010682   14.729220   44.061667\n",
            "17 2029-12-31  28.998586   11.180459   45.422711\n",
            "18 2030-12-31  27.774266    6.692185   46.208877\n",
            "19 2031-12-31  26.344192    2.628126   47.200312\n",
            "20 2032-12-31  28.213115    1.743020   51.636490\n",
            "21 2033-12-31  27.201019   -2.426415   53.745388\n"
          ]
        }
      ]
    },
    {
      "cell_type": "markdown",
      "source": [
        "### 5. Прогноз количества уникальных байков на ближайшие 10 лет"
      ],
      "metadata": {
        "id": "H0nOxv64Dcmg"
      }
    },
    {
      "cell_type": "code",
      "source": [
        "!pip install pyspark"
      ],
      "metadata": {
        "colab": {
          "base_uri": "https://localhost:8080/"
        },
        "id": "_qAE3ZXzD0hI",
        "outputId": "5593e996-01da-40f3-f341-5d4d279061be"
      },
      "execution_count": 13,
      "outputs": [
        {
          "output_type": "stream",
          "name": "stdout",
          "text": [
            "Looking in indexes: https://pypi.org/simple, https://us-python.pkg.dev/colab-wheels/public/simple/\n",
            "Collecting pyspark\n",
            "  Downloading pyspark-3.4.0.tar.gz (310.8 MB)\n",
            "\u001b[2K     \u001b[90m━━━━━━━━━━━━━━━━━━━━━━━━━━━━━━━━━━━━━━━\u001b[0m \u001b[32m310.8/310.8 MB\u001b[0m \u001b[31m3.7 MB/s\u001b[0m eta \u001b[36m0:00:00\u001b[0m\n",
            "\u001b[?25h  Preparing metadata (setup.py) ... \u001b[?25l\u001b[?25hdone\n",
            "Requirement already satisfied: py4j==0.10.9.7 in /usr/local/lib/python3.9/dist-packages (from pyspark) (0.10.9.7)\n",
            "Building wheels for collected packages: pyspark\n",
            "  Building wheel for pyspark (setup.py) ... \u001b[?25l\u001b[?25hdone\n",
            "  Created wheel for pyspark: filename=pyspark-3.4.0-py2.py3-none-any.whl size=311317145 sha256=fc344e02e082f80f6a5c6972f90311a5283ed9bf2ee173d61e20e70668566926\n",
            "  Stored in directory: /root/.cache/pip/wheels/9f/34/a4/159aa12d0a510d5ff7c8f0220abbea42e5d81ecf588c4fd884\n",
            "Successfully built pyspark\n",
            "Installing collected packages: pyspark\n",
            "Successfully installed pyspark-3.4.0\n"
          ]
        }
      ]
    },
    {
      "cell_type": "code",
      "source": [
        "from pyspark import SparkConf, SparkContext\n",
        "REPAIR_LIM = 10000\n",
        "REPAIR_PRICE = 60\n",
        "eREPAIR_PRICE = 80\n",
        "BIKE_PRICE = 1500\n",
        "eBIKE_PRICE = 2000\n",
        "conf = SparkConf().setAppName('test').setMaster('local')\n",
        "sc = SparkContext(conf=conf)"
      ],
      "metadata": {
        "id": "Ywox-y_cEGYU"
      },
      "execution_count": 14,
      "outputs": []
    },
    {
      "cell_type": "code",
      "source": [
        "def get_shortest_distance(lat1, lon1, lat2, lon2):\n",
        "    return acos(sin(lat1) * sin(lat2) + cos(lat1) * cos(lat2) * cos(lon2 - lon1)) * 6371\n",
        "\n",
        "\n",
        "def parse_table1(line):\n",
        "    id_, type_, startt, endt, startn, endn, startlt, startln, endlt, endln, member, gender, age, bikeid = line.split(\",\")\n",
        "    return (bikeid, 1)\n",
        "\n",
        "\n",
        "def parse_table2(line):\n",
        "    id_, type_, startt, endt, startn, endn, startlt, startln, endlt, endln, member, gender, age, bikeid = line.split(\",\")\n",
        "    V_AVG = 12/3.6/1000\n",
        "    startt = datetime.datetime.strptime(startt, '%Y-%m-%dT%H:%M:%S')\n",
        "    endt = datetime.datetime.strptime(endt, '%Y-%m-%dT%H:%M:%S')\n",
        "    duration = endt - startt\n",
        "    return (bikeid, V_AVG*duration.total_seconds())\n",
        "\n",
        "\n",
        "def parse_table3(line):\n",
        "    id_, type_, startt, endt, startn, endn, startlt, startln, endlt, endln, member, gender, age, bikeid = line.split(\",\")\n",
        "    return (bikeid, startt[0:7])"
      ],
      "metadata": {
        "id": "VLecSwTtEaB0"
      },
      "execution_count": 15,
      "outputs": []
    },
    {
      "cell_type": "code",
      "source": [
        "unique_by_year = []\n",
        "for y in range(2013, 2020):\n",
        "    root = f\"data/src/{y}\"\n",
        "    if google_collab:\n",
        "        root = f'/content/drive/MyDrive/yandex_bigdata_intensive/data/src/{y}/part-00000'\n",
        "    df = sc.textFile(root).map(parse_table1) \\\n",
        "                                          .reduceByKey(lambda a, b: a + b) \\\n",
        "                                          .map(lambda x: (None, 1)) \\\n",
        "                                          .reduceByKey(lambda a, b: a + b) \\\n",
        "                                          .collect()\n",
        "    unique_by_year.append(df[0][1])\n",
        "\n",
        "df_unique_by_year = pd.DataFrame(data={'y': unique_by_year, 'ds': [datetime(year=i, month=1, day=1) for i in\n",
        "                                                     range(2013, 2020)]})\n",
        "\n",
        "m_unique_by_year = Prophet()\n",
        "m_unique_by_year.fit(df_unique_by_year)\n",
        "future_unique_by_year = m_unique_by_year.make_future_dataframe(periods=6, freq='Y')\n",
        "forecast_unique_by_year = m_unique_by_year.predict(future_unique_by_year)\n",
        "print('=============================\\nUNIQUE BIKES BY YEAR:')\n",
        "print(forecast_meanage[['ds', 'yhat', 'yhat_lower', 'yhat_upper']])"
      ],
      "metadata": {
        "colab": {
          "base_uri": "https://localhost:8080/"
        },
        "id": "RB6GBkFhEdlD",
        "outputId": "adaae711-859c-4f00-83c4-d555ce3c8d4c"
      },
      "execution_count": 22,
      "outputs": [
        {
          "output_type": "stream",
          "name": "stderr",
          "text": [
            "INFO:prophet:Disabling weekly seasonality. Run prophet with weekly_seasonality=True to override this.\n",
            "INFO:prophet:Disabling daily seasonality. Run prophet with daily_seasonality=True to override this.\n",
            "INFO:prophet:n_changepoints greater than number of observations. Using 4.\n",
            "DEBUG:cmdstanpy:input tempfile: /tmp/tmp9e5eu8re/s_rpspd_.json\n",
            "DEBUG:cmdstanpy:input tempfile: /tmp/tmp9e5eu8re/7nxih38s.json\n",
            "DEBUG:cmdstanpy:idx 0\n",
            "DEBUG:cmdstanpy:running CmdStan, num_threads: None\n",
            "DEBUG:cmdstanpy:CmdStan args: ['/usr/local/lib/python3.9/dist-packages/prophet/stan_model/prophet_model.bin', 'random', 'seed=22549', 'data', 'file=/tmp/tmp9e5eu8re/s_rpspd_.json', 'init=/tmp/tmp9e5eu8re/7nxih38s.json', 'output', 'file=/tmp/tmp9e5eu8re/prophet_modelubyy8x6z/prophet_model-20230418205850.csv', 'method=optimize', 'algorithm=newton', 'iter=10000']\n",
            "20:58:50 - cmdstanpy - INFO - Chain [1] start processing\n",
            "INFO:cmdstanpy:Chain [1] start processing\n",
            "20:58:50 - cmdstanpy - INFO - Chain [1] done processing\n",
            "INFO:cmdstanpy:Chain [1] done processing\n"
          ]
        },
        {
          "output_type": "stream",
          "name": "stdout",
          "text": [
            "=============================\n",
            "UNIQUE BIKES BY YEAR:\n",
            "           ds       yhat  yhat_lower  yhat_upper\n",
            "0  2013-01-01  36.145709   36.145709   36.145709\n",
            "1  2014-01-01  35.405999   35.405999   35.405999\n",
            "2  2015-01-01  35.266113   35.266113   35.266113\n",
            "3  2016-01-01  35.523239   35.523239   35.523239\n",
            "4  2017-01-01  35.414326   35.414326   35.414326\n",
            "5  2018-01-01  35.309058   35.309058   35.309058\n",
            "6  2019-01-01  34.969107   34.969107   34.969107\n",
            "7  2020-01-01  34.399545   33.998093   34.703173\n",
            "8  2021-01-01  33.616759   32.365529   34.629713\n",
            "9  2022-01-01  33.511491   30.998112   35.509344\n",
            "10 2023-01-01  33.171540   29.351025   36.485898\n",
            "11 2023-12-31  29.939326   24.623447   34.685868\n",
            "12 2024-12-31  31.808249   24.858491   38.266413\n",
            "13 2025-12-31  30.796152   22.043624   38.616043\n",
            "14 2026-12-31  29.571832   18.665804   39.172999\n",
            "15 2027-12-31  28.141759   15.342759   39.980911\n",
            "16 2028-12-31  30.010682   14.729220   44.061667\n",
            "17 2029-12-31  28.998586   11.180459   45.422711\n",
            "18 2030-12-31  27.774266    6.692185   46.208877\n",
            "19 2031-12-31  26.344192    2.628126   47.200312\n",
            "20 2032-12-31  28.213115    1.743020   51.636490\n",
            "21 2033-12-31  27.201019   -2.426415   53.745388\n"
          ]
        }
      ]
    },
    {
      "cell_type": "markdown",
      "source": [
        "### 6. Прогноз ремонтов байков на 7 лет"
      ],
      "metadata": {
        "id": "qzWGW6CLKil1"
      }
    },
    {
      "cell_type": "code",
      "source": [
        "from math import floor\n",
        "import datetime\n",
        "\n",
        "cum_repairs = []\n",
        "run = []\n",
        "big = sc.parallelize([])\n",
        "for y in range(2013, 2020):\n",
        "    root = f\"data/src/{y}\"\n",
        "    if google_collab:\n",
        "        root = f'/content/drive/MyDrive/yandex_bigdata_intensive/data/src/{y}/part-00000'\n",
        "    df = sc.textFile(root).map(parse_table2) \\\n",
        "                                          .reduceByKey(lambda a, b: a + b)\n",
        "    big = big.union(df)\n",
        "    analyse_rep = big.map(lambda x: (None, floor(x[1] / REPAIR_LIM))) \\\n",
        "                 .reduceByKey(lambda a, b: a + b) \\\n",
        "                 .collect()\n",
        "    cum_repairs.append(analyse_rep[0][1])\n",
        "    analyse_run = df.map(lambda x: (None, x[1])) \\\n",
        "                    .reduceByKey(lambda a, b: a + b) \\\n",
        "                    .collect()\n",
        "    run.append(analyse_run[0][1])\n",
        "\n",
        "cum = 0\n",
        "repairs = []\n",
        "for s in cum_repairs:\n",
        "    repairs.append(s - cum)\n",
        "\n",
        "df_repairs = pd.DataFrame(data={'y': repairs, 'ds': [datetime.datetime(year=i, month=1, day=1) for i in\n",
        "                                                     range(2013, 2020)]})\n",
        "\n",
        "m_repairs = Prophet()\n",
        "m_repairs.fit(df_repairs)\n",
        "future_repairs = m_repairs.make_future_dataframe(periods=11, freq='Y')\n",
        "forecast_repairs = m_repairs.predict(future_repairs)\n",
        "print('=============================\\nREPAIRS:')\n",
        "print(forecast_repairs[['ds', 'yhat', 'yhat_lower', 'yhat_upper']])"
      ],
      "metadata": {
        "colab": {
          "base_uri": "https://localhost:8080/"
        },
        "id": "TcQMUAd-K_FA",
        "outputId": "62b951d0-5a6f-49f7-aca8-5fec736315d4"
      },
      "execution_count": 26,
      "outputs": [
        {
          "output_type": "stream",
          "name": "stderr",
          "text": [
            "INFO:prophet:Disabling weekly seasonality. Run prophet with weekly_seasonality=True to override this.\n",
            "INFO:prophet:Disabling daily seasonality. Run prophet with daily_seasonality=True to override this.\n",
            "INFO:prophet:n_changepoints greater than number of observations. Using 4.\n",
            "DEBUG:cmdstanpy:input tempfile: /tmp/tmp9e5eu8re/kmasgi98.json\n",
            "DEBUG:cmdstanpy:input tempfile: /tmp/tmp9e5eu8re/xs3q8m8j.json\n",
            "DEBUG:cmdstanpy:idx 0\n",
            "DEBUG:cmdstanpy:running CmdStan, num_threads: None\n",
            "DEBUG:cmdstanpy:CmdStan args: ['/usr/local/lib/python3.9/dist-packages/prophet/stan_model/prophet_model.bin', 'random', 'seed=25217', 'data', 'file=/tmp/tmp9e5eu8re/kmasgi98.json', 'init=/tmp/tmp9e5eu8re/xs3q8m8j.json', 'output', 'file=/tmp/tmp9e5eu8re/prophet_modelw4nbgsxd/prophet_model-20230418214427.csv', 'method=optimize', 'algorithm=newton', 'iter=10000']\n",
            "21:44:27 - cmdstanpy - INFO - Chain [1] start processing\n",
            "INFO:cmdstanpy:Chain [1] start processing\n",
            "21:44:28 - cmdstanpy - INFO - Chain [1] done processing\n",
            "INFO:cmdstanpy:Chain [1] done processing\n"
          ]
        },
        {
          "output_type": "stream",
          "name": "stdout",
          "text": [
            "=============================\n",
            "REPAIRS:\n",
            "           ds        yhat  yhat_lower   yhat_upper\n",
            "0  2013-01-01  -88.060837 -204.815928    36.691868\n",
            "1  2014-01-01  -28.462798 -151.767742    91.262059\n",
            "2  2015-01-01   30.172686  -87.704764   151.939772\n",
            "3  2016-01-01   87.842763  -25.948928   198.348470\n",
            "4  2017-01-01  137.519430   23.839688   254.876516\n",
            "5  2018-01-01  197.117469   76.321908   314.795697\n",
            "6  2019-01-01  255.752953  134.774422   370.287190\n",
            "7  2019-12-31  308.872121  188.826580   429.565715\n",
            "8  2020-12-31  370.126570  250.010752   488.373237\n",
            "9  2021-12-31  425.864157  310.084759   542.532356\n",
            "10 2022-12-31  480.638092  367.627070   592.142943\n",
            "11 2023-12-31  534.452388  417.704698   653.754449\n",
            "12 2024-12-31  595.706837  480.971088   709.351501\n",
            "13 2025-12-31  651.444424  535.179705   777.796768\n",
            "14 2026-12-31  706.218359  588.168578   818.184447\n",
            "15 2027-12-31  760.032655  651.767575   882.541298\n",
            "16 2028-12-31  821.287104  704.441449   930.014709\n",
            "17 2029-12-31  877.024691  759.993034  1003.421489\n"
          ]
        }
      ]
    },
    {
      "cell_type": "markdown",
      "source": [
        "### 7. Прогноз новых уникальных велосипедов на 7 лет"
      ],
      "metadata": {
        "id": "Wf5wszYVVJws"
      }
    },
    {
      "cell_type": "code",
      "source": [
        "big = sc.parallelize([])\n",
        "for y in range(2013, 2020):\n",
        "    root = f\"data/src/{y}\"\n",
        "    if google_collab:\n",
        "        root = f'/content/drive/MyDrive/yandex_bigdata_intensive/data/src/{y}/part-00000'\n",
        "    df = sc.textFile(root).map(parse_table3)\n",
        "    big = big.union(df)\n",
        "unique = big.reduceByKey(lambda a, b: a if a < b else b) \\\n",
        "            .map(lambda x: (x[1], 1)) \\\n",
        "            .reduceByKey(lambda a, b: a + b) \\\n",
        "            .collect()\n",
        "unique_by_year2 = []\n",
        "for y in range(2013, 2020):\n",
        "    summa = 0\n",
        "    for d, x in unique:\n",
        "        if str(y) in d:\n",
        "            summa += x\n",
        "    unique_by_year2.append(summa)\n",
        "\n",
        "df_new_unique = pd.DataFrame(data={'y': unique_by_year2, 'ds': [datetime.datetime(year=i, month=1, day=1) for i in\n",
        "                                                     range(2013, 2020)]})\n",
        "\n",
        "m_new_unique = Prophet()\n",
        "m_new_unique.fit(df_new_unique)\n",
        "future_new_unique = m_new_unique.make_future_dataframe(periods=11, freq='Y')\n",
        "forecast_new_unique = m_new_unique.predict(future_new_unique)\n",
        "print('=============================\\nNEW UNIQUE BIKES:')\n",
        "print(forecast_new_unique[['ds', 'yhat', 'yhat_lower', 'yhat_upper']])"
      ],
      "metadata": {
        "colab": {
          "base_uri": "https://localhost:8080/"
        },
        "id": "oMCaJQplVSS-",
        "outputId": "a568a6ad-da7b-4752-fb53-630dd2d0cb52"
      },
      "execution_count": 27,
      "outputs": [
        {
          "output_type": "stream",
          "name": "stderr",
          "text": [
            "INFO:prophet:Disabling weekly seasonality. Run prophet with weekly_seasonality=True to override this.\n",
            "INFO:prophet:Disabling daily seasonality. Run prophet with daily_seasonality=True to override this.\n",
            "INFO:prophet:n_changepoints greater than number of observations. Using 4.\n",
            "DEBUG:cmdstanpy:input tempfile: /tmp/tmp9e5eu8re/_gb7gaa_.json\n",
            "DEBUG:cmdstanpy:input tempfile: /tmp/tmp9e5eu8re/kbp_zvjf.json\n",
            "DEBUG:cmdstanpy:idx 0\n",
            "DEBUG:cmdstanpy:running CmdStan, num_threads: None\n",
            "DEBUG:cmdstanpy:CmdStan args: ['/usr/local/lib/python3.9/dist-packages/prophet/stan_model/prophet_model.bin', 'random', 'seed=18546', 'data', 'file=/tmp/tmp9e5eu8re/_gb7gaa_.json', 'init=/tmp/tmp9e5eu8re/kbp_zvjf.json', 'output', 'file=/tmp/tmp9e5eu8re/prophet_model40yw0n24/prophet_model-20230418215122.csv', 'method=optimize', 'algorithm=newton', 'iter=10000']\n",
            "21:51:22 - cmdstanpy - INFO - Chain [1] start processing\n",
            "INFO:cmdstanpy:Chain [1] start processing\n",
            "21:51:22 - cmdstanpy - INFO - Chain [1] done processing\n",
            "INFO:cmdstanpy:Chain [1] done processing\n"
          ]
        },
        {
          "output_type": "stream",
          "name": "stdout",
          "text": [
            "=============================\n",
            "NEW UNIQUE BIKES:\n",
            "           ds         yhat   yhat_lower   yhat_upper\n",
            "0  2013-01-01  1949.313323  1064.094153  2792.068596\n",
            "1  2014-01-01  1617.189321   697.868367  2478.819094\n",
            "2  2015-01-01  1290.121127   345.719917  2177.447692\n",
            "3  2016-01-01   968.084319   132.060671  1888.985570\n",
            "4  2017-01-01   564.234289  -300.170336  1446.226498\n",
            "5  2018-01-01   232.110287  -652.200216  1132.431209\n",
            "6  2019-01-01   -94.957906  -935.763666   817.959824\n",
            "7  2019-12-31  -270.569663 -1112.709432   603.794211\n",
            "8  2020-12-31  -734.034086 -1632.581176   197.945520\n",
            "9  2021-12-31 -1046.119441 -1924.309049  -135.565661\n",
            "10 2022-12-31 -1353.303599 -2213.331556  -484.177630\n",
            "11 2023-12-31 -1655.648695 -2550.235469  -678.192547\n",
            "12 2024-12-31 -2119.113119 -3023.982833 -1204.920780\n",
            "13 2025-12-31 -2431.198474 -3331.157638 -1543.790932\n",
            "14 2026-12-31 -2738.382631 -3692.336119 -1895.995566\n",
            "15 2027-12-31 -3040.727728 -3919.293067 -2174.430928\n",
            "16 2028-12-31 -3504.192151 -4351.952209 -2540.268894\n",
            "17 2029-12-31 -3816.277506 -4705.479820 -2871.059720\n"
          ]
        }
      ]
    },
    {
      "cell_type": "markdown",
      "source": [
        "Ну, какой-то бред..."
      ],
      "metadata": {
        "id": "miPU6dfGWlHp"
      }
    },
    {
      "cell_type": "markdown",
      "source": [
        "### Прогноз по пробегу на ближайшие 5 лет"
      ],
      "metadata": {
        "id": "R1jHY8ZcXfCh"
      }
    },
    {
      "cell_type": "code",
      "source": [
        "df_run = pd.DataFrame(data={'y': run, 'ds': [datetime.datetime(year=i, month=1, day=1) for i in\n",
        "                                                     range(2013, 2020)]})\n",
        "\n",
        "m_run = Prophet()\n",
        "m_run.fit(df_run)\n",
        "future_run = m_run.make_future_dataframe(periods=9, freq='Y')\n",
        "forecast_run = m_run.predict(future_run)\n",
        "print('=============================\\nRUN:')\n",
        "print(forecast_run[['ds', 'yhat', 'yhat_lower', 'yhat_upper']])"
      ],
      "metadata": {
        "colab": {
          "base_uri": "https://localhost:8080/"
        },
        "id": "qsJuoL0YXerE",
        "outputId": "f1470ba7-d7dc-454b-ac85-e57b5fa864ea"
      },
      "execution_count": 30,
      "outputs": [
        {
          "output_type": "stream",
          "name": "stderr",
          "text": [
            "INFO:prophet:Disabling weekly seasonality. Run prophet with weekly_seasonality=True to override this.\n",
            "INFO:prophet:Disabling daily seasonality. Run prophet with daily_seasonality=True to override this.\n",
            "INFO:prophet:n_changepoints greater than number of observations. Using 4.\n",
            "DEBUG:cmdstanpy:input tempfile: /tmp/tmp9e5eu8re/v_hq7wqn.json\n",
            "DEBUG:cmdstanpy:input tempfile: /tmp/tmp9e5eu8re/434yj2z5.json\n",
            "DEBUG:cmdstanpy:idx 0\n",
            "DEBUG:cmdstanpy:running CmdStan, num_threads: None\n",
            "DEBUG:cmdstanpy:CmdStan args: ['/usr/local/lib/python3.9/dist-packages/prophet/stan_model/prophet_model.bin', 'random', 'seed=57745', 'data', 'file=/tmp/tmp9e5eu8re/v_hq7wqn.json', 'init=/tmp/tmp9e5eu8re/434yj2z5.json', 'output', 'file=/tmp/tmp9e5eu8re/prophet_modelp77nsd50/prophet_model-20230418215832.csv', 'method=optimize', 'algorithm=newton', 'iter=10000']\n",
            "21:58:32 - cmdstanpy - INFO - Chain [1] start processing\n",
            "INFO:cmdstanpy:Chain [1] start processing\n",
            "21:58:32 - cmdstanpy - INFO - Chain [1] done processing\n",
            "INFO:cmdstanpy:Chain [1] done processing\n"
          ]
        },
        {
          "output_type": "stream",
          "name": "stdout",
          "text": [
            "=============================\n",
            "RUN:\n",
            "           ds          yhat    yhat_lower    yhat_upper\n",
            "0  2013-01-01  3.390334e+06  2.312997e+06  4.446346e+06\n",
            "1  2014-01-01  7.235879e+06  6.148428e+06  8.343022e+06\n",
            "2  2015-01-01  1.049944e+07  9.380853e+06  1.163712e+07\n",
            "3  2016-01-01  1.318000e+07  1.209260e+07  1.428782e+07\n",
            "4  2017-01-01  1.315059e+07  1.200847e+07  1.418347e+07\n",
            "5  2018-01-01  1.699624e+07  1.585341e+07  1.803084e+07\n",
            "6  2019-01-01  2.025991e+07  1.913346e+07  2.134222e+07\n",
            "7  2019-12-31  1.808811e+07  1.700070e+07  1.917320e+07\n",
            "8  2020-12-31  2.503826e+07  2.390610e+07  2.612309e+07\n",
            "9  2021-12-31  2.655397e+07  2.539396e+07  2.763559e+07\n",
            "10 2022-12-31  2.748976e+07  2.646448e+07  2.850583e+07\n",
            "11 2023-12-31  2.784868e+07  2.676846e+07  2.895447e+07\n",
            "12 2024-12-31  3.479883e+07  3.369397e+07  3.594712e+07\n",
            "13 2025-12-31  3.631454e+07  3.525837e+07  3.743525e+07\n",
            "14 2026-12-31  3.725034e+07  3.614111e+07  3.836295e+07\n",
            "15 2027-12-31  3.760925e+07  3.651038e+07  3.867114e+07\n"
          ]
        }
      ]
    },
    {
      "cell_type": "markdown",
      "source": [
        "### Прогноз по динамике популряности типов велосипедов на ближайшие 2 года"
      ],
      "metadata": {
        "id": "VtIDpBHkYJs0"
      }
    },
    {
      "cell_type": "code",
      "source": [
        "ebikes = []\n",
        "dbikes = []\n",
        "bikes = []\n",
        "for y in range(2020, 2024):\n",
        "    root = f\"data/src/{y}\"\n",
        "    if google_collab:\n",
        "        root = f'/content/drive/MyDrive/yandex_bigdata_intensive/data/src/{y}/part-00000'\n",
        "    df = pd.read_table(root, index_col=False, header=None, names=['id', 'biketype', 'starttime', 'endtime', 'startstation', 'endstation', 'startlat', 'startlng', 'endlat', 'endlng', 'member_casual', 'gender', 'age', 'bikeid'], sep=',')\n",
        "    ebikes.append(len(df[df['biketype'] == 'electric_bike']))\n",
        "    dbikes.append(len(df[df['biketype'] == 'docked_bike']))\n",
        "    bikes.append(len(df[df['biketype'] == 'classic_bike']))"
      ],
      "metadata": {
        "id": "2BHZMjEGYUBr"
      },
      "execution_count": 32,
      "outputs": []
    },
    {
      "cell_type": "code",
      "source": [
        "df_electric = pd.DataFrame(data={'y': ebikes, 'ds': [datetime.datetime(year=i, month=1, day=1) for i in\n",
        "                                                     range(2020, 2024)]})\n",
        "\n",
        "m_electric = Prophet()\n",
        "m_electric.fit(df_electric)\n",
        "future_electric = m_electric.make_future_dataframe(periods=3, freq='Y')\n",
        "forecast_electric = m_electric.predict(future_electric)\n",
        "print('=============================\\nELECTRIC BIKES:')\n",
        "print(forecast_electric[['ds', 'yhat', 'yhat_lower', 'yhat_upper']])"
      ],
      "metadata": {
        "colab": {
          "base_uri": "https://localhost:8080/"
        },
        "id": "MFRBKLz3YXWm",
        "outputId": "ff950a33-4ff2-4fc2-bf1f-0b16a638c3e7"
      },
      "execution_count": 33,
      "outputs": [
        {
          "output_type": "stream",
          "name": "stderr",
          "text": [
            "INFO:prophet:Disabling weekly seasonality. Run prophet with weekly_seasonality=True to override this.\n",
            "INFO:prophet:Disabling daily seasonality. Run prophet with daily_seasonality=True to override this.\n",
            "INFO:prophet:n_changepoints greater than number of observations. Using 2.\n",
            "DEBUG:cmdstanpy:input tempfile: /tmp/tmp9e5eu8re/880r30ye.json\n",
            "DEBUG:cmdstanpy:input tempfile: /tmp/tmp9e5eu8re/56u8nik1.json\n",
            "DEBUG:cmdstanpy:idx 0\n",
            "DEBUG:cmdstanpy:running CmdStan, num_threads: None\n",
            "DEBUG:cmdstanpy:CmdStan args: ['/usr/local/lib/python3.9/dist-packages/prophet/stan_model/prophet_model.bin', 'random', 'seed=4576', 'data', 'file=/tmp/tmp9e5eu8re/880r30ye.json', 'init=/tmp/tmp9e5eu8re/56u8nik1.json', 'output', 'file=/tmp/tmp9e5eu8re/prophet_modelrrfp0v4o/prophet_model-20230418220232.csv', 'method=optimize', 'algorithm=newton', 'iter=10000']\n",
            "22:02:32 - cmdstanpy - INFO - Chain [1] start processing\n",
            "INFO:cmdstanpy:Chain [1] start processing\n",
            "22:02:32 - cmdstanpy - INFO - Chain [1] done processing\n",
            "INFO:cmdstanpy:Chain [1] done processing\n"
          ]
        },
        {
          "output_type": "stream",
          "name": "stdout",
          "text": [
            "=============================\n",
            "ELECTRIC BIKES:\n",
            "          ds          yhat    yhat_lower    yhat_upper\n",
            "0 2020-01-01  5.168241e+05 -2.974436e+05  1.365601e+06\n",
            "1 2021-01-01  2.576726e+06  1.688631e+06  3.413746e+06\n",
            "2 2022-01-01  1.750390e+06  9.134854e+05  2.645344e+06\n",
            "3 2023-01-01  9.186482e+05  4.786485e+04  1.738203e+06\n",
            "4 2023-12-31 -2.855629e+06 -3.755325e+06 -1.980982e+06\n",
            "5 2024-12-31 -7.575192e+05 -1.619882e+06  7.928556e+04\n",
            "6 2025-12-31 -1.600162e+06 -2.428162e+06 -7.556059e+05\n"
          ]
        }
      ]
    },
    {
      "cell_type": "code",
      "source": [
        "df_docked = pd.DataFrame(data={'y': dbikes, 'ds': [datetime.datetime(year=i, month=1, day=1) for i in\n",
        "                                                     range(2020, 2024)]})\n",
        "\n",
        "m_docked = Prophet()\n",
        "m_docked.fit(df_docked)\n",
        "future_docked = m_docked.make_future_dataframe(periods=3, freq='Y')\n",
        "forecast_docked = m_docked.predict(future_docked)\n",
        "print('=============================\\nDOCKED BIKES:')\n",
        "print(forecast_docked[['ds', 'yhat', 'yhat_lower', 'yhat_upper']])"
      ],
      "metadata": {
        "colab": {
          "base_uri": "https://localhost:8080/"
        },
        "id": "M4jzGMcZYZXI",
        "outputId": "ffd81449-8c3c-4ad0-e9d3-8b74ef832aca"
      },
      "execution_count": 34,
      "outputs": [
        {
          "output_type": "stream",
          "name": "stderr",
          "text": [
            "INFO:prophet:Disabling weekly seasonality. Run prophet with weekly_seasonality=True to override this.\n",
            "INFO:prophet:Disabling daily seasonality. Run prophet with daily_seasonality=True to override this.\n",
            "INFO:prophet:n_changepoints greater than number of observations. Using 2.\n",
            "DEBUG:cmdstanpy:input tempfile: /tmp/tmp9e5eu8re/c7p38mzo.json\n",
            "DEBUG:cmdstanpy:input tempfile: /tmp/tmp9e5eu8re/9pbw5mdq.json\n",
            "DEBUG:cmdstanpy:idx 0\n",
            "DEBUG:cmdstanpy:running CmdStan, num_threads: None\n",
            "DEBUG:cmdstanpy:CmdStan args: ['/usr/local/lib/python3.9/dist-packages/prophet/stan_model/prophet_model.bin', 'random', 'seed=86707', 'data', 'file=/tmp/tmp9e5eu8re/c7p38mzo.json', 'init=/tmp/tmp9e5eu8re/9pbw5mdq.json', 'output', 'file=/tmp/tmp9e5eu8re/prophet_modelv6u2ikuq/prophet_model-20230418220346.csv', 'method=optimize', 'algorithm=newton', 'iter=10000']\n",
            "22:03:46 - cmdstanpy - INFO - Chain [1] start processing\n",
            "INFO:cmdstanpy:Chain [1] start processing\n",
            "22:03:46 - cmdstanpy - INFO - Chain [1] done processing\n",
            "INFO:cmdstanpy:Chain [1] done processing\n"
          ]
        },
        {
          "output_type": "stream",
          "name": "stdout",
          "text": [
            "=============================\n",
            "DOCKED BIKES:\n",
            "          ds          yhat    yhat_lower    yhat_upper\n",
            "0 2020-01-01  2.966349e+06  2.966349e+06  2.966349e+06\n",
            "1 2021-01-01  3.123737e+05  3.123737e+05  3.123737e+05\n",
            "2 2022-01-01  1.775033e+05  1.775033e+05  1.775033e+05\n",
            "3 2023-01-01  6.980883e+03  6.980883e+03  6.980884e+03\n",
            "4 2023-12-31  1.824672e+06  1.824289e+06  1.825042e+06\n",
            "5 2024-12-31 -4.350658e+05 -4.362709e+05 -4.338459e+05\n",
            "6 2025-12-31 -7.054556e+05 -7.078471e+05 -7.029809e+05\n"
          ]
        }
      ]
    },
    {
      "cell_type": "code",
      "source": [
        "df_classic = pd.DataFrame(data={'y': bikes, 'ds': [datetime.datetime(year=i, month=1, day=1) for i in\n",
        "                                                     range(2020, 2024)]})\n",
        "\n",
        "m_classic = Prophet()\n",
        "m_classic.fit(df_classic)\n",
        "future_classic = m_classic.make_future_dataframe(periods=9, freq='Y')\n",
        "forecast_classic = m_classic.predict(future_classic)\n",
        "print('=============================\\nCLASIC BIKES:')\n",
        "print(forecast_classic[['ds', 'yhat', 'yhat_lower', 'yhat_upper']])"
      ],
      "metadata": {
        "colab": {
          "base_uri": "https://localhost:8080/"
        },
        "id": "3awXVaywYZZu",
        "outputId": "99d9da0a-26e1-43eb-d023-12fd7198b024"
      },
      "execution_count": 35,
      "outputs": [
        {
          "output_type": "stream",
          "name": "stderr",
          "text": [
            "INFO:prophet:Disabling weekly seasonality. Run prophet with weekly_seasonality=True to override this.\n",
            "INFO:prophet:Disabling daily seasonality. Run prophet with daily_seasonality=True to override this.\n",
            "INFO:prophet:n_changepoints greater than number of observations. Using 2.\n",
            "DEBUG:cmdstanpy:input tempfile: /tmp/tmp9e5eu8re/_39q18n5.json\n",
            "DEBUG:cmdstanpy:input tempfile: /tmp/tmp9e5eu8re/yrnwzw7n.json\n",
            "DEBUG:cmdstanpy:idx 0\n",
            "DEBUG:cmdstanpy:running CmdStan, num_threads: None\n",
            "DEBUG:cmdstanpy:CmdStan args: ['/usr/local/lib/python3.9/dist-packages/prophet/stan_model/prophet_model.bin', 'random', 'seed=27331', 'data', 'file=/tmp/tmp9e5eu8re/_39q18n5.json', 'init=/tmp/tmp9e5eu8re/yrnwzw7n.json', 'output', 'file=/tmp/tmp9e5eu8re/prophet_modeltn9i3d5_/prophet_model-20230418220503.csv', 'method=optimize', 'algorithm=newton', 'iter=10000']\n",
            "22:05:03 - cmdstanpy - INFO - Chain [1] start processing\n",
            "INFO:cmdstanpy:Chain [1] start processing\n",
            "22:05:03 - cmdstanpy - INFO - Chain [1] done processing\n",
            "INFO:cmdstanpy:Chain [1] done processing\n"
          ]
        },
        {
          "output_type": "stream",
          "name": "stdout",
          "text": [
            "=============================\n",
            "CLASIC BIKES:\n",
            "           ds          yhat    yhat_lower    yhat_upper\n",
            "0  2020-01-01  7.497504e+04 -3.424538e+05  5.146536e+05\n",
            "1  2021-01-01  3.520031e+06  3.092918e+06  3.962577e+06\n",
            "2  2022-01-01  2.048898e+06  1.611851e+06  2.456361e+06\n",
            "3  2023-01-01  5.659226e+05  1.124025e+05  1.011804e+06\n",
            "4  2023-12-31 -5.971061e+06 -6.426228e+06 -5.515357e+06\n",
            "5  2024-12-31 -2.429525e+06 -2.875984e+06 -1.963442e+06\n",
            "6  2025-12-31 -3.938943e+06 -4.381765e+06 -3.503455e+06\n",
            "7  2026-12-31 -5.454097e+06 -5.878261e+06 -5.012428e+06\n",
            "8  2027-12-31 -6.973427e+06 -7.419277e+06 -6.525334e+06\n",
            "9  2028-12-31 -3.431892e+06 -3.885355e+06 -2.993085e+06\n",
            "10 2029-12-31 -4.941310e+06 -5.350537e+06 -4.506601e+06\n",
            "11 2030-12-31 -6.456464e+06 -6.895179e+06 -6.023488e+06\n",
            "12 2031-12-31 -7.975794e+06 -8.386503e+06 -7.529211e+06\n"
          ]
        }
      ]
    }
  ]
}