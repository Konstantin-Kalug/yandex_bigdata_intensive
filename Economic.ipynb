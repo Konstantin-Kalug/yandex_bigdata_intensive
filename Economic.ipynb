{
 "cells": [
  {
   "cell_type": "markdown",
   "id": "de62ab0f",
   "metadata": {},
   "source": [
    "# Посчитаем"
   ]
  },
  {
   "cell_type": "markdown",
   "id": "e69607d9",
   "metadata": {},
   "source": [
    "**Основные источники доходов**: единоразовая аренда велосипеда, подписка (о последнем данных нет)\n",
    "\n",
    "\n",
    "**Основные источники расходов**: затраты на покупку новых велосипедов, ремонт + стоимость станций"
   ]
  },
  {
   "cell_type": "markdown",
   "id": "c73046f1",
   "metadata": {},
   "source": [
    "##### Расходы\n",
    "Средние расходы на ремонт в год (начиная с шестого года работы): 12888 долларов\n",
    "\n",
    "\n",
    "Средние расходы на закупку новых велосипедов в год: 1676057 долларов\n",
    "\n",
    "\n",
    "Стоимость станций (в которых мы уверены в 2023 году): 1102 (станций) * 10000 (долларов за станцию) = 11020000 долларов\n",
    "\n",
    "Итого: 12708945 долларов"
   ]
  },
  {
   "cell_type": "markdown",
   "id": "b97f3f1d",
   "metadata": {},
   "source": [
    "##### Доходы\n",
    "\n",
    "\n",
    "С единоразовой аренды: 22780302 долларов\n",
    "\n",
    "\n",
    "С подписки: точно определить нельзя\n",
    "\n",
    "\n",
    "Итого 22780302 доллара"
   ]
  },
  {
   "cell_type": "code",
   "execution_count": null,
   "id": "e07a55f6",
   "metadata": {},
   "outputs": [],
   "source": []
  }
 ],
 "metadata": {
  "kernelspec": {
   "display_name": "Python 3 (ipykernel)",
   "language": "python",
   "name": "python3"
  },
  "language_info": {
   "codemirror_mode": {
    "name": "ipython",
    "version": 3
   },
   "file_extension": ".py",
   "mimetype": "text/x-python",
   "name": "python",
   "nbconvert_exporter": "python",
   "pygments_lexer": "ipython3",
   "version": "3.10.6"
  }
 },
 "nbformat": 4,
 "nbformat_minor": 5
}
